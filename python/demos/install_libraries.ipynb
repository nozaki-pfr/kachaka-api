{
 "cells": [
  {
   "cell_type": "markdown",
   "id": "da6044b1-aa88-485d-8208-69a2dbbcbaf9",
   "metadata": {},
   "source": [
    "# 依存ライブラリのインストール\n",
    "\n",
    "demoのプログラムが依存しているライブラリを一括でインストールします。  \n",
    "すでに実行中のnotebookがある場合は実行後にkernelを再起動してください。"
   ]
  },
  {
   "cell_type": "code",
   "execution_count": null,
   "id": "9da010bc-3388-4621-b45e-5f52e50f4c4d",
   "metadata": {},
   "outputs": [],
   "source": [
    "!pip install -U pip\n",
    "!pip install -r requirements.txt"
   ]
  }
 ],
 "metadata": {
  "kernelspec": {
   "display_name": "Python 3 (ipykernel)",
   "language": "python",
   "name": "python3"
  },
  "language_info": {
   "codemirror_mode": {
    "name": "ipython",
    "version": 3
   },
   "file_extension": ".py",
   "mimetype": "text/x-python",
   "name": "python",
   "nbconvert_exporter": "python",
   "pygments_lexer": "ipython3",
   "version": "3.10.13"
  }
 },
 "nbformat": 4,
 "nbformat_minor": 5
}
