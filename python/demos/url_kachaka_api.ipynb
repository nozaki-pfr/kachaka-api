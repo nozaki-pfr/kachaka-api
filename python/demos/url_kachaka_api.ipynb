{
 "cells": [
  {
   "cell_type": "markdown",
   "id": "66118c97-cd55-4a0c-b076-60324a7275bc",
   "metadata": {},
   "source": [
    "# HTTP wrapper for kachaka-api\n",
    "\n",
    "kachaka-apiライブラリをhttp経由でアクセスできるようにするデモです  \n",
    "\n",
    "使用例:\n",
    "```\n",
    "curl <カチャカのIPアドレス>:26502/kachaka/robot_serial_number\n",
    "curl <カチャカのIPアドレス>:26502/kachaka/auto_homing_enabled\n",
    "curl <カチャカのIPアドレス>:26502/kachaka/auto_homing_enabled --json '{\"enable\": false}'\n",
    "curl <カチャカのIPアドレス>:26502/kachaka/move_shelf --json '{\"shelf_name_or_id\":\"シェルフ\", \"location_name_or_id\":\"キッチン\"}'\n",
    "curl <カチャカのIPアドレス>:26502/kachaka/speak --json '{\"text\":\"APIから指令を受信しました\"}'\n",
    "curl <カチャカのIPアドレス>:26502/kachaka/return_home\n",
    "```"
   ]
  },
  {
   "cell_type": "code",
   "execution_count": null,
   "id": "fba94d00-c99a-49f4-a8f5-0422d4ca8670",
   "metadata": {},
   "outputs": [],
   "source": [
    "%run setup_demo_env.py"
   ]
  },
  {
   "cell_type": "markdown",
   "id": "6b1c36ca-1a41-4227-9f1f-9dd16a409275",
   "metadata": {},
   "source": [
    "依存ライブラリのインストールを行います。初回インストール後にkernelの再起動が必要です"
   ]
  },
  {
   "cell_type": "code",
   "execution_count": null,
   "id": "be2d0a05-0554-4455-bb4b-a3e2d52aa000",
   "metadata": {},
   "outputs": [],
   "source": [
    "!pip3 install -q fastapi uvicorn"
   ]
  },
  {
   "cell_type": "code",
   "execution_count": null,
   "id": "982c6e1b-b71d-499a-95c8-865adf7c42fb",
   "metadata": {},
   "outputs": [],
   "source": [
    "from collections.abc import Iterable\n",
    "\n",
    "import kachaka_api\n",
    "from fastapi import FastAPI, HTTPException\n",
    "from google._upb._message import RepeatedCompositeContainer\n",
    "from google.protobuf.json_format import MessageToDict\n",
    "\n",
    "app = FastAPI()\n",
    "kachaka_client = kachaka_api.aio.KachakaApiClient(\"192.168.1.202:26400\")\n",
    "\n",
    "\n",
    "@app.on_event(\"startup\")\n",
    "async def init_channel() -> None:\n",
    "    await kachaka_client.update_resolver()\n",
    "\n",
    "\n",
    "def to_dict(response):\n",
    "    if response.__class__.__module__ == \"kachaka_api_pb2\":\n",
    "        return MessageToDict(response)\n",
    "    if (\n",
    "        isinstance(response, tuple)\n",
    "        or isinstance(response, list)\n",
    "        or isinstance(response, RepeatedCompositeContainer)\n",
    "    ):\n",
    "        ret = []\n",
    "        for r in response:\n",
    "            ret.append(to_dict(r))\n",
    "        return ret\n",
    "    return response\n",
    "\n",
    "\n",
    "def get_method_or_404(attributes):\n",
    "    for attr in attributes:\n",
    "        if hasattr(kachaka_client, attr):\n",
    "            return getattr(kachaka_client, attr)\n",
    "    raise HTTPException(status_code=404, detail=\"Method not found\")\n",
    "\n",
    "\n",
    "@app.get(\"/kachaka/{item:path}\")\n",
    "async def get(item: str):\n",
    "    method = get_method_or_404([\"get_\" + item, item])\n",
    "    response = await method()\n",
    "    return to_dict(response)\n",
    "\n",
    "\n",
    "@app.post(\"/kachaka/{item:path}\")\n",
    "async def post(item: str, params: dict):\n",
    "    method = get_method_or_404([item, \"set_\" + item])\n",
    "    response = await method(**params)\n",
    "    return to_dict(response)"
   ]
  },
  {
   "cell_type": "code",
   "execution_count": null,
   "id": "fc4525bf-72bf-49a4-860e-d894826be4bb",
   "metadata": {},
   "outputs": [],
   "source": [
    "import uvicorn\n",
    "\n",
    "config = uvicorn.Config(app)\n",
    "config.host = \"0.0.0.0\"\n",
    "config.port = 26502\n",
    "server = uvicorn.Server(config)\n",
    "await server.serve()"
   ]
  }
 ],
 "metadata": {
  "kernelspec": {
   "display_name": "Python 3 (ipykernel)",
   "language": "python",
   "name": "python3"
  },
  "language_info": {
   "codemirror_mode": {
    "name": "ipython",
    "version": 3
   },
   "file_extension": ".py",
   "mimetype": "text/x-python",
   "name": "python",
   "nbconvert_exporter": "python",
   "pygments_lexer": "ipython3",
   "version": "3.10.12"
  }
 },
 "nbformat": 4,
 "nbformat_minor": 5
}
